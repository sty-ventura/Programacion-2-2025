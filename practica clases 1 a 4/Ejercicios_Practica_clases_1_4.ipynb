{
 "cells": [
  {
   "cell_type": "markdown",
   "metadata": {},
   "source": [
    "# <span style=\"color:blue; text-decoration:underline;\">Ejercicios de repaso Clase 1 a 4</span>\n",
    "\n",
    "## Descripción\n",
    "En este conjunto de ejercicios, vamos a repasar los conceptos de **datos complejos** en Python, incluyendo **listas**, **tuplas** y **diccionarios**. Además, es fundamental que practiquemos el uso de **Git y GitHub** para gestionar el código de manera eficiente. Los puntos clave a dominar son:\n",
    "\n",
    "- Creación de repositorios.\n",
    "- Uso de comandos básicos como `commit`, `pull`, `push`, `fetch`.\n",
    "- Creación y manejo de ramas.\n",
    "- Interacción con la IA a través de **Blackbox AI** para obtener asistencia y optimizar el proceso de codificación.\n",
    "\n",
    "Estos ejercicios te permitirán desarrollar habilidades tanto en la manipulación de estructuras de datos como en el control de versiones.\n",
    "\n",
    "---\n",
    "\n",
    "## Ejercicios\n",
    "\n",
    "1. **Listas**: Crea una lista de 5 frutas y agrega una fruta más al final de la lista usando el método adecuado.\n",
    "   \n",
    "2. **Listas**: Usa el método para eliminar el tercer elemento de una lista de números enteros: `[10, 20, 30, 40, 50]`.\n",
    "\n",
    "3. **Listas**: Dada una lista de nombres, ordena los elementos en orden alfabético.\n",
    "\n",
    "4. **Tuplas**: Crea una tupla con 4 ciudades y utiliza un método para contar cuántas veces aparece una ciudad específica en la tupla.\n",
    "\n",
    "5. **Tuplas**: Obtén el índice de un elemento dentro de una tupla: `('rojo', 'verde', 'azul', 'amarillo')`.\n",
    "\n",
    "6. **Diccionarios**: Crea un diccionario con tres pares clave-valor: nombre, edad, ciudad. Luego, añade un nuevo par clave-valor para incluir el país.\n",
    "\n",
    "7. **Diccionarios**: Dado un diccionario de estudiantes y sus notas: `{'Juan': 8, 'Ana': 9, 'Luis': 7}`, actualiza la nota de \"Luis\" a 10.\n",
    "\n",
    "8. **Listas**: Dada una lista de números `[2, 4, 6, 8, 10]`, usa un método para insertar el número 5 entre el 4 y el 6.\n",
    "\n",
    "9. **Diccionarios**: Crea un diccionario con tres películas y sus años de estreno. Usa el método para obtener solo las claves (los nombres de las películas).\n",
    "\n",
    "10. **Listas**: Dada una lista de colores `['rojo', 'azul', 'verde']`, usa un método para duplicar los elementos de la lista.\n",
    "\n",
    "---\n",
    "\n",
    "## Recomendaciones para Git y GitHub\n",
    "\n",
    "- **Crear un repositorio**: Inicia un nuevo proyecto en GitHub.\n",
    "- **Realizar commits**: Asegúrate de hacer un `commit` por cada cambio significativo en tu código.\n",
    "- **Sincronización remota**: Utiliza `pull`, `push` y `fetch` para mantener el repositorio local y remoto sincronizados.\n",
    "- **Ramas**: Crea y administra ramas (`branch`) para trabajar en características nuevas o correcciones sin alterar el código principal.\n",
    "- **Blackbox AI**: Aprovecha la herramienta **Blackbox AI** para generar sugerencias de código y resolver dudas técnicas.\n",
    "\n",
    "¡Buena suerte con los ejercicios!"
   ]
  }
 ],
 "metadata": {
  "kernelspec": {
   "display_name": "Python 3",
   "language": "python",
   "name": "python3"
  },
  "language_info": {
   "name": "python",
   "version": "3.9.13"
  }
 },
 "nbformat": 4,
 "nbformat_minor": 2
}
