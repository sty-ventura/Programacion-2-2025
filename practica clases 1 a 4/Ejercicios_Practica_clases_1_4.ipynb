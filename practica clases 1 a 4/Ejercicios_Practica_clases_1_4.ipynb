{
 "cells": [
  {
   "cell_type": "markdown",
   "metadata": {},
   "source": [
    "# <span style=\"color:blue; text-decoration:underline;\">Ejercicios de repaso Clase 1 a 4</span>\n",
    "\n",
    "## Descripción\n",
    "En este conjunto de ejercicios, vamos a repasar los conceptos de **datos complejos** en Python, incluyendo **listas**, **tuplas** y **diccionarios**. Además, es fundamental que practiquemos el uso de **Git y GitHub** para gestionar el código de manera eficiente. Los puntos clave a dominar son:\n",
    "\n",
    "- Creación de repositorios.\n",
    "- Uso de comandos básicos como `commit`, `pull`, `push`, `fetch`.\n",
    "- Creación y manejo de ramas.\n",
    "- Interacción con la IA a través de **Blackbox AI** para obtener asistencia y optimizar el proceso de codificación.\n",
    "\n",
    "Estos ejercicios te permitirán desarrollar habilidades tanto en la manipulación de estructuras de datos como en el control de versiones.\n",
    "\n",
    "---\n",
    "\n",
    "## Ejercicios\n",
    "\n",
    "1. **Listas**: Crea una lista de 5 frutas y agrega una fruta más al final de la lista usando el método adecuado.\n",
    "   \n",
    "2. **Listas**: Usa el método para eliminar el tercer elemento de una lista de números enteros: `[10, 20, 30, 40, 50]`.\n",
    "\n",
    "3. **Listas**: Dada una lista de nombres, ordena los elementos en orden alfabético.\n",
    "\n",
    "4. **Tuplas**: Crea una tupla con 4 ciudades y utiliza un método para contar cuántas veces aparece una ciudad específica en la tupla.\n",
    "\n",
    "5. **Tuplas**: Obtén el índice de un elemento dentro de una tupla: `('rojo', 'verde', 'azul', 'amarillo')`.\n",
    "\n",
    "6. **Diccionarios**: Crea un diccionario con tres pares clave-valor: nombre, edad, ciudad. Luego, añade un nuevo par clave-valor para incluir el país.\n",
    "\n",
    "7. **Diccionarios**: Dado un diccionario de estudiantes y sus notas: `{'Juan': 8, 'Ana': 9, 'Luis': 7}`, actualiza la nota de \"Luis\" a 10.\n",
    "\n",
    "8. **Listas**: Dada una lista de números `[2, 4, 6, 8, 10]`, usa un método para insertar el número 5 entre el 4 y el 6.\n",
    "\n",
    "9. **Diccionarios**: Crea un diccionario con tres películas y sus años de estreno. Usa el método para obtener solo las claves (los nombres de las películas).\n",
    "\n",
    "10. **Listas**: Dada una lista de colores `['rojo', 'azul', 'verde']`, usa un método para duplicar los elementos de la lista.\n",
    "\n",
    "---\n",
    "\n",
    "## Recomendaciones para Git y GitHub\n",
    "\n",
    "- **Crear un repositorio**: Inicia un nuevo proyecto en GitHub.\n",
    "- **Realizar commits**: Asegúrate de hacer un `commit` por cada cambio significativo en tu código.\n",
    "- **Sincronización remota**: Utiliza `pull`, `push` y `fetch` para mantener el repositorio local y remoto sincronizados.\n",
    "- **Ramas**: Crea y administra ramas (`branch`) para trabajar en características nuevas o correcciones sin alterar el código principal.\n",
    "- **Blackbox AI**: Aprovecha la herramienta **Blackbox AI** para generar sugerencias de código y resolver dudas técnicas.\n",
    "\n",
    "¡Buena suerte con los ejercicios!"
   ]
  },
  {
   "cell_type": "markdown",
   "metadata": {},
   "source": [
    "1. **Listas**: Crea una lista de 5 frutas y agrega una fruta más al final de la lista usando el método adecuado."
   ]
  },
  {
   "cell_type": "code",
   "execution_count": 2,
   "metadata": {},
   "outputs": [
    {
     "name": "stdout",
     "output_type": "stream",
     "text": [
      "['manzana', 'uvas', 'banana', 'naranja', 'cerezas']\n",
      "['manzana', 'uvas', 'banana', 'naranja', 'cerezas', 'ananá']\n"
     ]
    }
   ],
   "source": [
    "frutas=[\"manzana\",\"uvas\",\"banana\",\"naranja\",\"cerezas\"]\n",
    "print(frutas)\n",
    "frutas.append(\"ananá\")\n",
    "print(frutas)"
   ]
  },
  {
   "cell_type": "markdown",
   "metadata": {},
   "source": [
    "2. **Listas**: Usa el método para eliminar el tercer elemento de una lista de números enteros: `[10, 20, 30, 40, 50]`."
   ]
  },
  {
   "cell_type": "code",
   "execution_count": 5,
   "metadata": {},
   "outputs": [
    {
     "name": "stdout",
     "output_type": "stream",
     "text": [
      "[10, 20, 40, 50]\n"
     ]
    }
   ],
   "source": [
    "numeros_enteros=[10,20,30,40,50]\n",
    "del(numeros_enteros[2])\n",
    "print(numeros_enteros)"
   ]
  },
  {
   "cell_type": "markdown",
   "metadata": {},
   "source": [
    "3. **Listas**: Dada una lista de nombres, ordena los elementos en orden alfabético."
   ]
  },
  {
   "cell_type": "code",
   "execution_count": 7,
   "metadata": {},
   "outputs": [
    {
     "data": {
      "text/plain": [
       "['Alberta', 'Beto', 'Josefina', 'Layla']"
      ]
     },
     "execution_count": 7,
     "metadata": {},
     "output_type": "execute_result"
    }
   ],
   "source": [
    "nombres=[\"Josefina\", \"Layla\",\"Beto\",\"Alberta\"]\n",
    "sorted(nombres)"
   ]
  },
  {
   "cell_type": "markdown",
   "metadata": {},
   "source": [
    "con sorted se crea una nueva lista ordenada, no solo se la imprime"
   ]
  },
  {
   "cell_type": "code",
   "execution_count": 10,
   "metadata": {},
   "outputs": [
    {
     "name": "stdout",
     "output_type": "stream",
     "text": [
      "['Alberta', 'Beto', 'Josefina', 'Layla']\n"
     ]
    }
   ],
   "source": [
    "nombres=[\"Josefina\", \"Layla\",\"Beto\",\"Alberta\"]\n",
    "nombres.sort()\n",
    "print(nombres)"
   ]
  },
  {
   "cell_type": "markdown",
   "metadata": {},
   "source": [
    "4. **Tuplas**: Crea una tupla con 4 ciudades y utiliza un método para contar cuántas veces aparece una ciudad específica en la tupla."
   ]
  },
  {
   "cell_type": "code",
   "execution_count": 11,
   "metadata": {},
   "outputs": [
    {
     "data": {
      "text/plain": [
       "1"
      ]
     },
     "execution_count": 11,
     "metadata": {},
     "output_type": "execute_result"
    }
   ],
   "source": [
    "ciudades=(\"Lisboa\", \"Paris\",\"Málaga\",\"Madrid\")\n",
    "ciudades.count(\"Paris\")"
   ]
  },
  {
   "cell_type": "markdown",
   "metadata": {},
   "source": [
    "5. **Tuplas**: Obtén el índice de un elemento dentro de una tupla: `('rojo', 'verde', 'azul', 'amarillo')`."
   ]
  },
  {
   "cell_type": "code",
   "execution_count": 12,
   "metadata": {},
   "outputs": [
    {
     "data": {
      "text/plain": [
       "2"
      ]
     },
     "execution_count": 12,
     "metadata": {},
     "output_type": "execute_result"
    }
   ],
   "source": [
    "colores=(\"rojo\",\"verde\",\"azul\",\"amarillo\")\n",
    "colores.index(\"azul\")"
   ]
  },
  {
   "cell_type": "markdown",
   "metadata": {},
   "source": [
    "6. **Diccionarios**: Crea un diccionario con tres pares clave-valor: nombre, edad, ciudad. Luego, añade un nuevo par clave-valor para incluir el país."
   ]
  }
 ],
 "metadata": {
  "kernelspec": {
   "display_name": "Python 3",
   "language": "python",
   "name": "python3"
  },
  "language_info": {
   "codemirror_mode": {
    "name": "ipython",
    "version": 3
   },
   "file_extension": ".py",
   "mimetype": "text/x-python",
   "name": "python",
   "nbconvert_exporter": "python",
   "pygments_lexer": "ipython3",
   "version": "3.11.9"
  }
 },
 "nbformat": 4,
 "nbformat_minor": 2
}
